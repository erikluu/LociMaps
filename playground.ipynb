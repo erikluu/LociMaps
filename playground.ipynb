{
 "cells": [
  {
   "attachments": {},
   "cell_type": "markdown",
   "metadata": {},
   "source": [
    "# Vector Databases?"
   ]
  },
  {
   "attachments": {},
   "cell_type": "markdown",
   "metadata": {},
   "source": [
    "Early Thoughts\n",
    "- Each document will store its content and some metadata\n",
    "    - metric to measure amount of interaction over time (a lot of little updates, little big updates?)\n",
    "    - last edited\n",
    "    - time created\n",
    "    - embedding (512 is sufficient?)\n",
    "- How should the embedding of documents work\n",
    "    - How many dimensions\n",
    "    - Gather a giant corpora of super broad topics to use for reducing new unknown documents? (is that possible?)\n",
    "    "
   ]
  },
  {
   "cell_type": "code",
   "execution_count": null,
   "metadata": {},
   "outputs": [],
   "source": []
  }
 ],
 "metadata": {
  "language_info": {
   "name": "python"
  },
  "orig_nbformat": 4
 },
 "nbformat": 4,
 "nbformat_minor": 2
}
